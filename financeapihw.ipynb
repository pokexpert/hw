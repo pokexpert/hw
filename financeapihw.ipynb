{
  "nbformat": 4,
  "nbformat_minor": 0,
  "metadata": {
    "colab": {
      "provenance": [],
      "authorship_tag": "ABX9TyOYAbx6ZQ9VHNoSs/u9BAOo",
      "include_colab_link": true
    },
    "kernelspec": {
      "name": "python3",
      "display_name": "Python 3"
    },
    "language_info": {
      "name": "python"
    }
  },
  "cells": [
    {
      "cell_type": "markdown",
      "metadata": {
        "id": "view-in-github",
        "colab_type": "text"
      },
      "source": [
        "<a href=\"https://colab.research.google.com/github/pokexpert/hw/blob/main/financeapihw.ipynb\" target=\"_parent\"><img src=\"https://colab.research.google.com/assets/colab-badge.svg\" alt=\"Open In Colab\"/></a>"
      ]
    },
    {
      "cell_type": "code",
      "source": [
        "import json\n",
        "import pandas as pd\n",
        "import requests\n",
        "\n",
        "#i got help from google on how to do this i searched up \"how to format currency in python\"\n",
        "def format_currency(value):\n",
        "    try:\n",
        "        return f\"${value:,.2f}\"\n",
        "    except:\n",
        "        return value"
      ],
      "metadata": {
        "id": "nbB4g_GCbFOj"
      },
      "execution_count": 56,
      "outputs": []
    },
    {
      "cell_type": "code",
      "source": [
        "def fetch_stock_data(stocks, apikey):\n",
        "    qurl = \"https://yfapi.net/v6/finance/quote\"\n",
        "    querystring = {\"symbols\": \",\".join(stocks)}\n",
        "    headers = {'x-api-key': apikey}\n",
        "\n",
        "    response = requests.get(qurl, headers=headers, params=querystring)\n",
        "    quote_data = response.json()\n",
        "\n",
        "    stock_info_list = []\n",
        "    if \"quoteResponse\" in quote_data and \"result\" in quote_data[\"quoteResponse\"]:\n",
        "        for stock in quote_data[\"quoteResponse\"][\"result\"]:\n",
        "            ticker = stock.get(\"symbol\", \"N/A\")\n",
        "            company = stock.get(\"shortName\", \"N/A\")\n",
        "            price = stock.get(\"regularMarketPrice\", \"N/A\")\n",
        "            stock_info_list.append({\n",
        "                \"Stock Ticker\": ticker,\n",
        "                \"Company\": company,\n",
        "                \"Current Market Price\": format_currency(price) if price != \"N/A\" else \"N/A\"\n",
        "            })\n",
        "    return stock_info_list"
      ],
      "metadata": {
        "id": "L861saZnbSCj"
      },
      "execution_count": 57,
      "outputs": []
    },
    {
      "cell_type": "code",
      "source": [
        "def fetch_stock_metric(stocks, apikey, choice, options):\n",
        "    metric_name, module, metric_key = options[choice]\n",
        "    surl = \"https://yfapi.net/v11/finance/quoteSummary/{}\"\n",
        "    sparams = {\"modules\": module}\n",
        "    headers = {'x-api-key': apikey}\n",
        "\n",
        "    stock_info_list = []\n",
        "    for stock in stocks:\n",
        "        response = requests.get(surl.format(stock), headers=headers, params=sparams)\n",
        "        data = response.json().get(\"quoteSummary\", {}).get(\"result\", [{}])[0]\n",
        "        metric_value = data.get(module, {}).get(metric_key, {}).get(\"raw\", \"N/A\")\n",
        "        stock_info_list.append({\n",
        "            \"Ticker Symbol\": stock,\n",
        "            metric_name: metric_value if metric_value != \"N/A\" else \"N/A\"\n",
        "        })\n",
        "\n",
        "    return stock_info_list"
      ],
      "metadata": {
        "id": "BNCsYqKtbWds"
      },
      "execution_count": 58,
      "outputs": []
    },
    {
      "cell_type": "code",
      "source": [
        "stocks = input(\"Enter stock symbols (comma separated): \").split(\",\")\n",
        "print(f\"You have entered: {', '.join(stocks)}\")\n",
        "\n",
        "apikey = \"QS6GRszd8Y2Yd6RYTXdpY1czs9FNqr2U7gfReTIs\"\n",
        "\n",
        "stock_data = fetch_stock_data(stocks, apikey)\n",
        "df = pd.DataFrame(stock_data)\n",
        "print(\"\\nStock Data:\")\n",
        "print(df)"
      ],
      "metadata": {
        "colab": {
          "base_uri": "https://localhost:8080/"
        },
        "id": "WGkZ2Ga2badE",
        "outputId": "73fc2150-fd2b-4753-e518-4c242ea01d87"
      },
      "execution_count": 59,
      "outputs": [
        {
          "output_type": "stream",
          "name": "stdout",
          "text": [
            "Enter stock symbols (comma separated): AAPL,GOOGL\n",
            "You have entered: AAPL, GOOGL\n",
            "\n",
            "Stock Data:\n",
            "  Stock Ticker        Company Current Market Price\n",
            "0         AAPL     Apple Inc.              $238.03\n",
            "1        GOOGL  Alphabet Inc.              $167.01\n"
          ]
        }
      ]
    },
    {
      "cell_type": "code",
      "source": [
        "options = {\n",
        "    \"1\": (\"52 Week High\", \"summaryDetail\", \"fiftyTwoWeekHigh\"),\n",
        "    \"2\": (\"52 Week Low\", \"summaryDetail\", \"fiftyTwoWeekLow\"),\n",
        "    \"3\": (\"Return on Assets (ROA)\", \"financialData\", \"returnOnAssets\")\n",
        "}\n",
        "\n",
        "choice = input(\"Select a metric:\\n1. 52 Week High\\n2. 52 Week Low\\n3. Return on Assets (ROA)\\nChoice: \")\n",
        "\n",
        "if choice not in options:\n",
        "    print(\"Invalid choice.\")\n",
        "else:\n",
        "    metric_data = fetch_stock_metric(stocks, apikey, choice, options)\n",
        "    df = pd.DataFrame(metric_data)\n",
        "    print(\"\\nStock Metrics Data:\")\n",
        "    print(df)"
      ],
      "metadata": {
        "colab": {
          "base_uri": "https://localhost:8080/"
        },
        "id": "Mx0qWRKAbiSI",
        "outputId": "2d317fc8-b98c-423c-db20-b2edd3214e47"
      },
      "execution_count": 60,
      "outputs": [
        {
          "output_type": "stream",
          "name": "stdout",
          "text": [
            "Select a metric:\n",
            "1. 52 Week High\n",
            "2. 52 Week Low\n",
            "3. Return on Assets (ROA)\n",
            "Choice: 1\n",
            "\n",
            "Stock Metrics Data:\n",
            "  Ticker Symbol  52 Week High\n",
            "0          AAPL        260.10\n",
            "1         GOOGL        207.05\n"
          ]
        }
      ]
    },
    {
      "cell_type": "code",
      "source": [
        "trending_url = \"https://yfapi.net/v1/finance/trending/US\"\n",
        "stock_details_url = \"https://yfapi.net/v6/finance/quote\"\n",
        "\n",
        "try:\n",
        "    trending_stocks = [stock['symbol'] for stock in requests.get(trending_url, headers={'x-api-key': apikey}).json()['finance']['result'][0]['quotes'][:5]]\n",
        "    stock_data = requests.get(stock_details_url, headers={'x-api-key': apikey}, params={\"symbols\": \",\".join(trending_stocks)}).json().get(\"quoteResponse\", {}).get(\"result\", [])\n",
        "\n",
        "    df = pd.DataFrame([{\n",
        "        \"Symbol\": s.get(\"symbol\", \"N/A\"),\n",
        "        \"Name\": s.get(\"shortName\", \"N/A\"),\n",
        "        \"Current Price\": format_currency(s.get(\"regularMarketPrice\", \"N/A\")),\n",
        "        \"52 Week High\": format_currency(s.get(\"fiftyTwoWeekHigh\", \"N/A\")),\n",
        "        \"52 Week Low\": format_currency(s.get(\"fiftyTwoWeekLow\", \"N/A\"))\n",
        "    } for s in stock_data])\n",
        "    print(df)\n",
        "\n",
        "except Exception as e:\n",
        "    print(f\"error: {e}\")"
      ],
      "metadata": {
        "colab": {
          "base_uri": "https://localhost:8080/"
        },
        "id": "2TkrRZxpbgEL",
        "outputId": "0541f3f8-5794-4585-9615-2692f25780d8"
      },
      "execution_count": 64,
      "outputs": [
        {
          "output_type": "stream",
          "name": "stdout",
          "text": [
            "  Symbol                             Name Current Price 52 Week High  \\\n",
            "0   NVDA               NVIDIA Corporation       $114.06      $153.13   \n",
            "1    TSM  Taiwan Semiconductor Manufactur       $172.97      $226.40   \n",
            "2    WBA   Walgreens Boots Alliance, Inc.        $10.26       $22.05   \n",
            "3   TSLA                      Tesla, Inc.       $284.65      $488.54   \n",
            "4   OKTA                       Okta, Inc.        $87.16      $114.50   \n",
            "\n",
            "  52 Week Low  \n",
            "0      $75.61  \n",
            "1     $125.78  \n",
            "2       $8.08  \n",
            "3     $138.80  \n",
            "4      $70.56  \n"
          ]
        }
      ]
    }
  ]
}